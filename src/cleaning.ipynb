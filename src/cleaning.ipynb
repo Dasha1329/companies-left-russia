{
 "cells": [
  {
   "cell_type": "code",
   "execution_count": 3,
   "id": "09808af1",
   "metadata": {
    "ExecuteTime": {
     "start_time": "2023-04-18T18:11:37.442711Z",
     "end_time": "2023-04-18T18:11:37.486135Z"
    }
   },
   "outputs": [],
   "source": [
    "%run parsing.ipynb import comp_df, regs_df, regs_abb_df\n",
    "\n",
    "# regs_df - quite clear df, as well as regs_abb_df\n",
    "# there is question about comp_df"
   ]
  },
  {
   "cell_type": "code",
   "execution_count": 12,
   "id": "5494b5c7",
   "metadata": {
    "ExecuteTime": {
     "start_time": "2023-04-18T18:13:25.079338Z",
     "end_time": "2023-04-18T18:13:25.087736Z"
    }
   },
   "outputs": [
    {
     "data": {
      "text/plain": "                     Name                Industry        Country         ИНН\n0                Aalberts             Industrials    Netherlands         NaN\n1     Abbott Laboratories             Health Care  United States  7725594604\n2                  Abbvie             Health Care  United States  7743855873\n3                   Accor  Consumer Discretionary         France  7704662187\n4               Accumalux  Consumer Discretionary     Luxembourg  6321413868\n...                   ...                     ...            ...         ...\n2018           HMD Global  Information Technology      Финляндия  7704376115\n2019               Heroku  Information Technology            США         NaN\n2020            Parallels  Information Technology            США  5406309261\n2021             Qt Group  Information Technology       Норвегия         NaN\n2022               Deeper  Information Technology          Литва  4909105167\n\n[2023 rows x 4 columns]",
      "text/html": "<div>\n<style scoped>\n    .dataframe tbody tr th:only-of-type {\n        vertical-align: middle;\n    }\n\n    .dataframe tbody tr th {\n        vertical-align: top;\n    }\n\n    .dataframe thead th {\n        text-align: right;\n    }\n</style>\n<table border=\"1\" class=\"dataframe\">\n  <thead>\n    <tr style=\"text-align: right;\">\n      <th></th>\n      <th>Name</th>\n      <th>Industry</th>\n      <th>Country</th>\n      <th>ИНН</th>\n    </tr>\n  </thead>\n  <tbody>\n    <tr>\n      <th>0</th>\n      <td>Aalberts</td>\n      <td>Industrials</td>\n      <td>Netherlands</td>\n      <td>NaN</td>\n    </tr>\n    <tr>\n      <th>1</th>\n      <td>Abbott Laboratories</td>\n      <td>Health Care</td>\n      <td>United States</td>\n      <td>7725594604</td>\n    </tr>\n    <tr>\n      <th>2</th>\n      <td>Abbvie</td>\n      <td>Health Care</td>\n      <td>United States</td>\n      <td>7743855873</td>\n    </tr>\n    <tr>\n      <th>3</th>\n      <td>Accor</td>\n      <td>Consumer Discretionary</td>\n      <td>France</td>\n      <td>7704662187</td>\n    </tr>\n    <tr>\n      <th>4</th>\n      <td>Accumalux</td>\n      <td>Consumer Discretionary</td>\n      <td>Luxembourg</td>\n      <td>6321413868</td>\n    </tr>\n    <tr>\n      <th>...</th>\n      <td>...</td>\n      <td>...</td>\n      <td>...</td>\n      <td>...</td>\n    </tr>\n    <tr>\n      <th>2018</th>\n      <td>HMD Global</td>\n      <td>Information Technology</td>\n      <td>Финляндия</td>\n      <td>7704376115</td>\n    </tr>\n    <tr>\n      <th>2019</th>\n      <td>Heroku</td>\n      <td>Information Technology</td>\n      <td>США</td>\n      <td>NaN</td>\n    </tr>\n    <tr>\n      <th>2020</th>\n      <td>Parallels</td>\n      <td>Information Technology</td>\n      <td>США</td>\n      <td>5406309261</td>\n    </tr>\n    <tr>\n      <th>2021</th>\n      <td>Qt Group</td>\n      <td>Information Technology</td>\n      <td>Норвегия</td>\n      <td>NaN</td>\n    </tr>\n    <tr>\n      <th>2022</th>\n      <td>Deeper</td>\n      <td>Information Technology</td>\n      <td>Литва</td>\n      <td>4909105167</td>\n    </tr>\n  </tbody>\n</table>\n<p>2023 rows × 4 columns</p>\n</div>"
     },
     "execution_count": 12,
     "metadata": {},
     "output_type": "execute_result"
    }
   ],
   "source": [
    "comp_df"
   ]
  },
  {
   "cell_type": "code",
   "execution_count": 5,
   "id": "f9578278",
   "metadata": {
    "ExecuteTime": {
     "start_time": "2023-04-18T18:11:37.490539Z",
     "end_time": "2023-04-18T18:11:37.500870Z"
    }
   },
   "outputs": [
    {
     "data": {
      "text/plain": "0       continue operations on an unspecified \"lower\" ...\n1                 suspend non-essential business activity\n2       suspend aesthetics operations, pause new clini...\n3                     suspend new investments/development\n4              still operating plant in Togliatti, Russia\n                              ...                        \n2018                      приняла решение уйти с рынка РФ\n2019    Облачная PaaS-платформа Heroku больше не регис...\n2020    Компания по разработке программного обеспечени...\n2021        ограничил доступ для российских пользователей\n2022                   приостановил деятельность в России\nName: Action, Length: 2023, dtype: object"
     },
     "execution_count": 5,
     "metadata": {},
     "output_type": "execute_result"
    }
   ],
   "source": [
    "comp_df.pop('Action')"
   ]
  },
  {
   "cell_type": "code",
   "execution_count": 6,
   "id": "4e803416",
   "metadata": {
    "ExecuteTime": {
     "start_time": "2023-04-18T18:11:37.502913Z",
     "end_time": "2023-04-18T18:11:37.522751Z"
    }
   },
   "outputs": [
    {
     "data": {
      "text/plain": "                        Name                Industry         Country  \\\n1152  Zurich Insurance Group              Financials     Switzerland   \n1153                     NaN                     NaN             NaN   \n1154              McDonald’s        Consumer Staples             NaN   \n1155             Yum! Brands        Consumer Staples             NaN   \n1156        Lindt & Sprüngli        Consumer Staples             NaN   \n1157                 Lavazza        Consumer Staples             NaN   \n1158             Intel и AMD  Information Technology             NaN   \n1159                  Twitch  Information Technology             NaN   \n1160                OnlyFans  Information Technology             NaN   \n1161            Vista Create  Information Technology             NaN   \n1162                  Pexels  Information Technology             NaN   \n1163                 Pixabay  Information Technology             NaN   \n1164              Google Pay  Information Technology             NaN   \n1165               Apple Pay  Information Technology             NaN   \n1166                   Figma  Information Technology             NaN   \n1167                  PayPal              Financials             NaN   \n1168                 Moody’s              Financials             NaN   \n1169         JP Morgan Chase              Financials             NaN   \n1170                Mubadala              Financials             NaN   \n1171               Saxo Bank              Financials             NaN   \n1172               Bloomberg              Financials             NaN   \n1173                    ASUS             Industrials             NaN   \n1174                  Suzuki             Industrials             NaN   \n1175             Rolls-Royce             Industrials             NaN   \n1176        Volkswagen Group             Industrials             NaN   \n1177          General Motors             Industrials             NaN   \n1178             Lamborghini             Industrials             NaN   \n1179                Infiniti             Industrials             NaN   \n1180                 Cartier        Consumer Staples             NaN   \n1181                Reserved        Consumer Staples             NaN   \n1182                    Lush             Health Care             NaN   \n1183                   iHerb             Health Care             NaN   \n1184                 Watsons             Health Care             NaN   \n1185              L’Occitane        Consumer Staples             NaN   \n1186                    IKEA        Consumer Staples             NaN   \n1187                  Megogo  Consumer Discretionary             NaN   \n1188      Universal Pictures  Consumer Discretionary             NaN   \n1189             Walt Disney  Consumer Discretionary             NaN   \n1190           Sony Pictures  Consumer Discretionary             NaN   \n1191                   Globo             Industrials             NaN   \n1192                   Ampol             Industrials             NaN   \n1193             Viva Energy             Industrials             NaN   \n1194     Procter & Gamble Co             Health Care             NaN   \n1195                 Nurofen             Health Care             NaN   \n1196               Strepsils             Health Care             NaN   \n1197             Cillit Bang             Health Care             NaN   \n1198                  Vanish             Health Care             NaN   \n1199                   Durex             Health Care             NaN   \n1200                   Volvo             Industrials             NaN   \n1201                 Peugeot             Industrials             NaN   \n1202                 PepsiCo        Consumer Staples             NaN   \n1203  Mondelez International        Consumer Staples             NaN   \n1204               Cитимобил  Consumer Discretionary             NaN   \n1205             Samsung Pay  Information Technology             NaN   \n1206                 Adsense  Communication Services             США   \n1207                 DMarket              Financials             США   \n1208               BTC-Alpha              Financials  Великобритания   \n1209                   QMall              Financials         Украина   \n\n             ИНН  \n1152  7707062854  \n1153  7707062854  \n1154  7710044140  \n1155         NaN  \n1156         NaN  \n1157  7727553628  \n1158         NaN  \n1159         NaN  \n1160         NaN  \n1161         NaN  \n1162         NaN  \n1163         NaN  \n1164         NaN  \n1165         NaN  \n1166  9731051832  \n1167  7750005796  \n1168  7714594218  \n1169  7740000076  \n1170  7017126251  \n1171         NaN  \n1172  7704233195  \n1173  7702402151  \n1174  7704558059  \n1175  7728849515  \n1176  7702349370  \n1177  5402059557  \n1178         NaN  \n1179  7715847006  \n1180  7714469048  \n1181  1514018103  \n1182  7714229906  \n1183  9710079940  \n1184         NaN  \n1185  7707591760  \n1186  5047076050  \n1187  7703769593  \n1188  7703693915  \n1189  7710608533  \n1190  7710744977  \n1191  7728112810  \n1192  3906016728  \n1193         NaN  \n1194  7701032910  \n1195         NaN  \n1196  6671278333  \n1197         NaN  \n1198  9710040822  \n1199         NaN  \n1200  5047105054  \n1201  7701534807  \n1202  7705034202  \n1203  7707778655  \n1204  7724365672  \n1205         NaN  \n1206         NaN  \n1207         NaN  \n1208         NaN  \n1209         NaN  ",
      "text/html": "<div>\n<style scoped>\n    .dataframe tbody tr th:only-of-type {\n        vertical-align: middle;\n    }\n\n    .dataframe tbody tr th {\n        vertical-align: top;\n    }\n\n    .dataframe thead th {\n        text-align: right;\n    }\n</style>\n<table border=\"1\" class=\"dataframe\">\n  <thead>\n    <tr style=\"text-align: right;\">\n      <th></th>\n      <th>Name</th>\n      <th>Industry</th>\n      <th>Country</th>\n      <th>ИНН</th>\n    </tr>\n  </thead>\n  <tbody>\n    <tr>\n      <th>1152</th>\n      <td>Zurich Insurance Group</td>\n      <td>Financials</td>\n      <td>Switzerland</td>\n      <td>7707062854</td>\n    </tr>\n    <tr>\n      <th>1153</th>\n      <td>NaN</td>\n      <td>NaN</td>\n      <td>NaN</td>\n      <td>7707062854</td>\n    </tr>\n    <tr>\n      <th>1154</th>\n      <td>McDonald’s</td>\n      <td>Consumer Staples</td>\n      <td>NaN</td>\n      <td>7710044140</td>\n    </tr>\n    <tr>\n      <th>1155</th>\n      <td>Yum! Brands</td>\n      <td>Consumer Staples</td>\n      <td>NaN</td>\n      <td>NaN</td>\n    </tr>\n    <tr>\n      <th>1156</th>\n      <td>Lindt &amp; Sprüngli</td>\n      <td>Consumer Staples</td>\n      <td>NaN</td>\n      <td>NaN</td>\n    </tr>\n    <tr>\n      <th>1157</th>\n      <td>Lavazza</td>\n      <td>Consumer Staples</td>\n      <td>NaN</td>\n      <td>7727553628</td>\n    </tr>\n    <tr>\n      <th>1158</th>\n      <td>Intel и AMD</td>\n      <td>Information Technology</td>\n      <td>NaN</td>\n      <td>NaN</td>\n    </tr>\n    <tr>\n      <th>1159</th>\n      <td>Twitch</td>\n      <td>Information Technology</td>\n      <td>NaN</td>\n      <td>NaN</td>\n    </tr>\n    <tr>\n      <th>1160</th>\n      <td>OnlyFans</td>\n      <td>Information Technology</td>\n      <td>NaN</td>\n      <td>NaN</td>\n    </tr>\n    <tr>\n      <th>1161</th>\n      <td>Vista Create</td>\n      <td>Information Technology</td>\n      <td>NaN</td>\n      <td>NaN</td>\n    </tr>\n    <tr>\n      <th>1162</th>\n      <td>Pexels</td>\n      <td>Information Technology</td>\n      <td>NaN</td>\n      <td>NaN</td>\n    </tr>\n    <tr>\n      <th>1163</th>\n      <td>Pixabay</td>\n      <td>Information Technology</td>\n      <td>NaN</td>\n      <td>NaN</td>\n    </tr>\n    <tr>\n      <th>1164</th>\n      <td>Google Pay</td>\n      <td>Information Technology</td>\n      <td>NaN</td>\n      <td>NaN</td>\n    </tr>\n    <tr>\n      <th>1165</th>\n      <td>Apple Pay</td>\n      <td>Information Technology</td>\n      <td>NaN</td>\n      <td>NaN</td>\n    </tr>\n    <tr>\n      <th>1166</th>\n      <td>Figma</td>\n      <td>Information Technology</td>\n      <td>NaN</td>\n      <td>9731051832</td>\n    </tr>\n    <tr>\n      <th>1167</th>\n      <td>PayPal</td>\n      <td>Financials</td>\n      <td>NaN</td>\n      <td>7750005796</td>\n    </tr>\n    <tr>\n      <th>1168</th>\n      <td>Moody’s</td>\n      <td>Financials</td>\n      <td>NaN</td>\n      <td>7714594218</td>\n    </tr>\n    <tr>\n      <th>1169</th>\n      <td>JP Morgan Chase</td>\n      <td>Financials</td>\n      <td>NaN</td>\n      <td>7740000076</td>\n    </tr>\n    <tr>\n      <th>1170</th>\n      <td>Mubadala</td>\n      <td>Financials</td>\n      <td>NaN</td>\n      <td>7017126251</td>\n    </tr>\n    <tr>\n      <th>1171</th>\n      <td>Saxo Bank</td>\n      <td>Financials</td>\n      <td>NaN</td>\n      <td>NaN</td>\n    </tr>\n    <tr>\n      <th>1172</th>\n      <td>Bloomberg</td>\n      <td>Financials</td>\n      <td>NaN</td>\n      <td>7704233195</td>\n    </tr>\n    <tr>\n      <th>1173</th>\n      <td>ASUS</td>\n      <td>Industrials</td>\n      <td>NaN</td>\n      <td>7702402151</td>\n    </tr>\n    <tr>\n      <th>1174</th>\n      <td>Suzuki</td>\n      <td>Industrials</td>\n      <td>NaN</td>\n      <td>7704558059</td>\n    </tr>\n    <tr>\n      <th>1175</th>\n      <td>Rolls-Royce</td>\n      <td>Industrials</td>\n      <td>NaN</td>\n      <td>7728849515</td>\n    </tr>\n    <tr>\n      <th>1176</th>\n      <td>Volkswagen Group</td>\n      <td>Industrials</td>\n      <td>NaN</td>\n      <td>7702349370</td>\n    </tr>\n    <tr>\n      <th>1177</th>\n      <td>General Motors</td>\n      <td>Industrials</td>\n      <td>NaN</td>\n      <td>5402059557</td>\n    </tr>\n    <tr>\n      <th>1178</th>\n      <td>Lamborghini</td>\n      <td>Industrials</td>\n      <td>NaN</td>\n      <td>NaN</td>\n    </tr>\n    <tr>\n      <th>1179</th>\n      <td>Infiniti</td>\n      <td>Industrials</td>\n      <td>NaN</td>\n      <td>7715847006</td>\n    </tr>\n    <tr>\n      <th>1180</th>\n      <td>Cartier</td>\n      <td>Consumer Staples</td>\n      <td>NaN</td>\n      <td>7714469048</td>\n    </tr>\n    <tr>\n      <th>1181</th>\n      <td>Reserved</td>\n      <td>Consumer Staples</td>\n      <td>NaN</td>\n      <td>1514018103</td>\n    </tr>\n    <tr>\n      <th>1182</th>\n      <td>Lush</td>\n      <td>Health Care</td>\n      <td>NaN</td>\n      <td>7714229906</td>\n    </tr>\n    <tr>\n      <th>1183</th>\n      <td>iHerb</td>\n      <td>Health Care</td>\n      <td>NaN</td>\n      <td>9710079940</td>\n    </tr>\n    <tr>\n      <th>1184</th>\n      <td>Watsons</td>\n      <td>Health Care</td>\n      <td>NaN</td>\n      <td>NaN</td>\n    </tr>\n    <tr>\n      <th>1185</th>\n      <td>L’Occitane</td>\n      <td>Consumer Staples</td>\n      <td>NaN</td>\n      <td>7707591760</td>\n    </tr>\n    <tr>\n      <th>1186</th>\n      <td>IKEA</td>\n      <td>Consumer Staples</td>\n      <td>NaN</td>\n      <td>5047076050</td>\n    </tr>\n    <tr>\n      <th>1187</th>\n      <td>Megogo</td>\n      <td>Consumer Discretionary</td>\n      <td>NaN</td>\n      <td>7703769593</td>\n    </tr>\n    <tr>\n      <th>1188</th>\n      <td>Universal Pictures</td>\n      <td>Consumer Discretionary</td>\n      <td>NaN</td>\n      <td>7703693915</td>\n    </tr>\n    <tr>\n      <th>1189</th>\n      <td>Walt Disney</td>\n      <td>Consumer Discretionary</td>\n      <td>NaN</td>\n      <td>7710608533</td>\n    </tr>\n    <tr>\n      <th>1190</th>\n      <td>Sony Pictures</td>\n      <td>Consumer Discretionary</td>\n      <td>NaN</td>\n      <td>7710744977</td>\n    </tr>\n    <tr>\n      <th>1191</th>\n      <td>Globo</td>\n      <td>Industrials</td>\n      <td>NaN</td>\n      <td>7728112810</td>\n    </tr>\n    <tr>\n      <th>1192</th>\n      <td>Ampol</td>\n      <td>Industrials</td>\n      <td>NaN</td>\n      <td>3906016728</td>\n    </tr>\n    <tr>\n      <th>1193</th>\n      <td>Viva Energy</td>\n      <td>Industrials</td>\n      <td>NaN</td>\n      <td>NaN</td>\n    </tr>\n    <tr>\n      <th>1194</th>\n      <td>Procter &amp; Gamble Co</td>\n      <td>Health Care</td>\n      <td>NaN</td>\n      <td>7701032910</td>\n    </tr>\n    <tr>\n      <th>1195</th>\n      <td>Nurofen</td>\n      <td>Health Care</td>\n      <td>NaN</td>\n      <td>NaN</td>\n    </tr>\n    <tr>\n      <th>1196</th>\n      <td>Strepsils</td>\n      <td>Health Care</td>\n      <td>NaN</td>\n      <td>6671278333</td>\n    </tr>\n    <tr>\n      <th>1197</th>\n      <td>Cillit Bang</td>\n      <td>Health Care</td>\n      <td>NaN</td>\n      <td>NaN</td>\n    </tr>\n    <tr>\n      <th>1198</th>\n      <td>Vanish</td>\n      <td>Health Care</td>\n      <td>NaN</td>\n      <td>9710040822</td>\n    </tr>\n    <tr>\n      <th>1199</th>\n      <td>Durex</td>\n      <td>Health Care</td>\n      <td>NaN</td>\n      <td>NaN</td>\n    </tr>\n    <tr>\n      <th>1200</th>\n      <td>Volvo</td>\n      <td>Industrials</td>\n      <td>NaN</td>\n      <td>5047105054</td>\n    </tr>\n    <tr>\n      <th>1201</th>\n      <td>Peugeot</td>\n      <td>Industrials</td>\n      <td>NaN</td>\n      <td>7701534807</td>\n    </tr>\n    <tr>\n      <th>1202</th>\n      <td>PepsiCo</td>\n      <td>Consumer Staples</td>\n      <td>NaN</td>\n      <td>7705034202</td>\n    </tr>\n    <tr>\n      <th>1203</th>\n      <td>Mondelez International</td>\n      <td>Consumer Staples</td>\n      <td>NaN</td>\n      <td>7707778655</td>\n    </tr>\n    <tr>\n      <th>1204</th>\n      <td>Cитимобил</td>\n      <td>Consumer Discretionary</td>\n      <td>NaN</td>\n      <td>7724365672</td>\n    </tr>\n    <tr>\n      <th>1205</th>\n      <td>Samsung Pay</td>\n      <td>Information Technology</td>\n      <td>NaN</td>\n      <td>NaN</td>\n    </tr>\n    <tr>\n      <th>1206</th>\n      <td>Adsense</td>\n      <td>Communication Services</td>\n      <td>США</td>\n      <td>NaN</td>\n    </tr>\n    <tr>\n      <th>1207</th>\n      <td>DMarket</td>\n      <td>Financials</td>\n      <td>США</td>\n      <td>NaN</td>\n    </tr>\n    <tr>\n      <th>1208</th>\n      <td>BTC-Alpha</td>\n      <td>Financials</td>\n      <td>Великобритания</td>\n      <td>NaN</td>\n    </tr>\n    <tr>\n      <th>1209</th>\n      <td>QMall</td>\n      <td>Financials</td>\n      <td>Украина</td>\n      <td>NaN</td>\n    </tr>\n  </tbody>\n</table>\n</div>"
     },
     "execution_count": 6,
     "metadata": {},
     "output_type": "execute_result"
    }
   ],
   "source": [
    "comp_df[1152:1210]"
   ]
  },
  {
   "cell_type": "code",
   "execution_count": 7,
   "id": "7d4569d1",
   "metadata": {
    "ExecuteTime": {
     "start_time": "2023-04-18T18:11:37.512072Z",
     "end_time": "2023-04-18T18:11:37.523048Z"
    }
   },
   "outputs": [],
   "source": [
    "import re\n",
    "\n",
    "def has_cyrillic(text):\n",
    "    return bool(re.search('[\\u0400-\\u04FF]', text))"
   ]
  },
  {
   "cell_type": "code",
   "execution_count": 8,
   "id": "11b753bb",
   "metadata": {
    "ExecuteTime": {
     "start_time": "2023-04-18T18:11:37.521714Z",
     "end_time": "2023-04-18T18:11:37.549521Z"
    }
   },
   "outputs": [
    {
     "name": "stdout",
     "output_type": "stream",
     "text": [
      "Number of all countries: 2023\n",
      "Number of unique countries: 107\n"
     ]
    }
   ],
   "source": [
    "print('Number of all countries:', len(comp_df['Country'].tolist()))\n",
    "print('Number of unique countries:', len(comp_df['Country'].unique().tolist()))"
   ]
  },
  {
   "cell_type": "code",
   "execution_count": 9,
   "id": "6bea77b2",
   "metadata": {
    "ExecuteTime": {
     "start_time": "2023-04-18T18:11:37.528789Z",
     "end_time": "2023-04-18T18:11:37.621031Z"
    }
   },
   "outputs": [
    {
     "data": {
      "text/plain": "['Netherlands',\n 'United States',\n 'France',\n 'Luxembourg',\n 'Slovenia',\n 'Switzerland',\n 'Andorra',\n 'Austria',\n 'Spain',\n 'United Kingdom',\n 'Germany',\n 'Finland',\n 'Italy',\n 'China',\n 'Estonia',\n 'Canada',\n 'Poland',\n 'Portugal',\n 'Latvia',\n 'Belgium',\n 'Denmark',\n 'Australia',\n 'Japan',\n 'Mexico',\n 'Cyprus',\n 'Greece',\n 'Czech Republic',\n 'Hong Kong',\n 'Iceland',\n 'India',\n 'Singapore',\n 'Bermuda',\n 'Liechtenstein',\n 'Lithuania',\n 'Slovakia',\n 'United Arab Emirates',\n 'Norway',\n 'Hungary',\n 'Israel',\n 'Sweden',\n 'Taiwan',\n 'Kazakhstan',\n 'Malta',\n 'Azerbaijan',\n 'Malaysia',\n 'Romania',\n 'Bulgaria',\n 'Ukraine',\n 'Brazil',\n 'South Korea',\n 'Ireland',\n 'Monaco',\n 'Croatia',\n 'Sri Lanka',\n 'Vietnam',\n 'New Zealand',\n 'South Africa',\n 'Belarus',\n 'Panama',\n nan,\n 'США',\n 'Великобритания',\n 'Украина',\n 'США, Великобритания',\n 'Испания',\n 'Италия',\n 'Япония',\n 'Германия',\n 'Нидерланды',\n 'Франция',\n 'Венгрия',\n 'Польша',\n 'Норвегия',\n 'Сингапур',\n 'Швейцария',\n 'Малайзия',\n 'Швеция',\n 'Австралия',\n 'Ирландия',\n 'Кипр',\n 'Россия',\n 'Южная Корея',\n 'Тайвань',\n 'Канада',\n 'Дания',\n 'Финляндия',\n 'Эстония',\n 'Люксембург',\n 'Каймановы острова',\n 'Латвия',\n 'Мальта',\n 'Чехия',\n 'Worldwide',\n 'Литва',\n 'Болгария',\n 'Корея',\n 'Ангилья',\n 'Новая Зеландия',\n 'Словакия',\n 'Европейский союз',\n 'Израиль',\n 'Индия',\n 'Китай',\n 'Гонконг',\n 'Беларусь',\n 'Молдова',\n 'Швеция, Швейцария']"
     },
     "execution_count": 9,
     "metadata": {},
     "output_type": "execute_result"
    }
   ],
   "source": [
    "comp_df['Country'].unique().tolist()"
   ]
  },
  {
   "cell_type": "code",
   "execution_count": 10,
   "id": "6f7f2210",
   "metadata": {
    "ExecuteTime": {
     "start_time": "2023-04-18T18:11:37.537410Z",
     "end_time": "2023-04-18T18:11:37.774326Z"
    }
   },
   "outputs": [
    {
     "data": {
      "text/plain": "     Name     Industry            Country         ИНН\n2015  АВВ  Industrials  Швеция, Швейцария  5837009706",
      "text/html": "<div>\n<style scoped>\n    .dataframe tbody tr th:only-of-type {\n        vertical-align: middle;\n    }\n\n    .dataframe tbody tr th {\n        vertical-align: top;\n    }\n\n    .dataframe thead th {\n        text-align: right;\n    }\n</style>\n<table border=\"1\" class=\"dataframe\">\n  <thead>\n    <tr style=\"text-align: right;\">\n      <th></th>\n      <th>Name</th>\n      <th>Industry</th>\n      <th>Country</th>\n      <th>ИНН</th>\n    </tr>\n  </thead>\n  <tbody>\n    <tr>\n      <th>2015</th>\n      <td>АВВ</td>\n      <td>Industrials</td>\n      <td>Швеция, Швейцария</td>\n      <td>5837009706</td>\n    </tr>\n  </tbody>\n</table>\n</div>"
     },
     "execution_count": 10,
     "metadata": {},
     "output_type": "execute_result"
    }
   ],
   "source": [
    "comp_df[comp_df['Country'] == 'Швеция, Швейцария']"
   ]
  },
  {
   "cell_type": "code",
   "execution_count": 11,
   "id": "3239a648",
   "metadata": {
    "ExecuteTime": {
     "start_time": "2023-04-18T18:11:37.555506Z",
     "end_time": "2023-04-18T18:11:37.775147Z"
    }
   },
   "outputs": [
    {
     "name": "stdout",
     "output_type": "stream",
     "text": [
      "Name          1\n",
      "Industry    548\n",
      "Country     238\n",
      "ИНН         849\n",
      "dtype: int64\n",
      "Overall\t 1636\n"
     ]
    }
   ],
   "source": [
    "print(comp_df.isnull().sum())\n",
    "print('Overall\\t', comp_df.isnull().sum().sum())"
   ]
  },
  {
   "cell_type": "code",
   "execution_count": 11,
   "id": "da7b15fb",
   "metadata": {
    "ExecuteTime": {
     "start_time": "2023-04-18T18:11:37.563371Z",
     "end_time": "2023-04-18T18:11:37.775572Z"
    }
   },
   "outputs": [],
   "source": []
  }
 ],
 "metadata": {
  "kernelspec": {
   "display_name": "Python 3 (ipykernel)",
   "language": "python",
   "name": "python3"
  },
  "language_info": {
   "codemirror_mode": {
    "name": "ipython",
    "version": 3
   },
   "file_extension": ".py",
   "mimetype": "text/x-python",
   "name": "python",
   "nbconvert_exporter": "python",
   "pygments_lexer": "ipython3",
   "version": "3.11.0"
  }
 },
 "nbformat": 4,
 "nbformat_minor": 5
}
